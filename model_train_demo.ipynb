{
 "cells": [
  {
   "cell_type": "code",
   "execution_count": 1,
   "id": "863d75e1-c426-4cc5-8e13-76ed392e5583",
   "metadata": {},
   "outputs": [],
   "source": [
    "import pandas as pd\n",
    "import torch\n",
    "from build_ftt_model import build_ftt_model\n",
    "from model_building_tool import (\n",
    "    ITER_FNS,\n",
    "    EarlyStopper,\n",
    "    acc_loss_recorder,\n",
    "    apply_model,\n",
    "    balance_splited_X_y_pos_neg,\n",
    "    evaluate,\n",
    "    load_json,\n",
    "    set_loss_fn,\n",
    "    set_optimizer,\n",
    "    set_reduce_lr,\n",
    "    set_SAM_optimizer,\n",
    "    set_train_loader,\n",
    "    transform_splited_data_to_tensor,\n",
    ")\n",
    "from model_evaluation import show_histroy\n",
    "from x_y_data_preprocessing import sort_and_find_cat_col_X"
   ]
  },
  {
   "cell_type": "code",
   "execution_count": 2,
   "id": "7cc9da6b-e92b-47ae-8232-a717939153f8",
   "metadata": {},
   "outputs": [],
   "source": [
    "X_path = \"data/2019_join_data_WithLabel_pure_X.csv\"\n",
    "X_splited_json_path = (\n",
    "    \"splited_encoded_data/2019_join_data_WithLabel_pure_X_encoded_splited.json\"\n",
    ")\n",
    "y_splited_json_path = (\n",
    "    \"splited_encoded_data/2019_join_data_WithLabel_pure_y_splited.json\"\n",
    ")\n",
    "cardinalities_json_path = \"splited_encoded_data/2019_join_data_WithLabel_pure_X_fill_nan_by_Unknown_cat_cardinalities.json\"\n",
    "class_weights_json = \"data/2019_join_data_WithLabel_pure_y_class_weights.json\""
   ]
  },
  {
   "cell_type": "code",
   "execution_count": 3,
   "id": "63f32153-5393-40c4-b1e2-82809e20114c",
   "metadata": {},
   "outputs": [],
   "source": [
    "X_splited = load_json(X_splited_json_path)\n",
    "y_splited = load_json(y_splited_json_path)\n",
    "cardinalities = load_json(cardinalities_json_path)\n",
    "class_weights = load_json(class_weights_json)\n",
    "cat_col = sort_and_find_cat_col_X(X_path)"
   ]
  },
  {
   "cell_type": "code",
   "execution_count": 5,
   "id": "7b6496f1-a7dd-4b3c-b469-3e191575f9fc",
   "metadata": {},
   "outputs": [
    {
     "name": "stdout",
     "output_type": "stream",
     "text": [
      "pos: 741\n",
      " neg: 31287\n",
      "\n",
      "under sample to balanced: \n",
      "pos: 741\n",
      " neg: 741\n",
      "\n"
     ]
    }
   ],
   "source": [
    "# X_splited, y_splited = balance_splited_X_y_pos_neg(X_splited, y_splited)"
   ]
  },
  {
   "cell_type": "code",
   "execution_count": 4,
   "id": "8a15a6fb-fb78-42d5-b345-08cc78577cf1",
   "metadata": {},
   "outputs": [],
   "source": [
    "X_splited = transform_splited_data_to_tensor(X_splited)\n",
    "y_splited = transform_splited_data_to_tensor(y_splited)"
   ]
  },
  {
   "cell_type": "code",
   "execution_count": 7,
   "id": "778719eb-ffce-471a-afc5-e32a7ff4e7e5",
   "metadata": {},
   "outputs": [],
   "source": [
    "model = build_ftt_model(\n",
    "    n_num_features=cat_col,\n",
    "    d_token=32,  # must be multiple of 8\n",
    "    n_blocks=2,\n",
    "    attention_dropout=0.2,\n",
    "    ffn_d_hidden=16,\n",
    "    ffn_dropout=0.1,\n",
    "    d_out=1,\n",
    "    device=\"cpu\",\n",
    "    cardinalities=cardinalities,\n",
    ")\n",
    "# optimizer = set_optimizer(model)\n",
    "optimizer = set_SAM_optimizer(model)\n",
    "scheduler = set_reduce_lr(optimizer, mode=\"min\", factor=0.1, patience=5, verbose=True)\n",
    "loss_fn = set_loss_fn(task_type=\"binclass\")\n",
    "early_stopper = EarlyStopper(patience=10)\n",
    "train_loader = set_train_loader(X_splited, batch_size=32)"
   ]
  },
  {
   "cell_type": "code",
   "execution_count": null,
   "id": "590d86b1-d234-4c80-a133-c247a19f6817",
   "metadata": {},
   "outputs": [],
   "source": [
    "name = \"sam\"\n",
    "n_epochs = 1000\n",
    "batch_size = 32\n",
    "report_frequency = len(X_splited[\"train\"]) // batch_size // 5\n",
    "min_loss = 100000\n",
    "iter_type = \"sam\"\n",
    "learning_curve_df = pd.DataFrame(columns=[\"acc\", \"val_acc\", \"loss\", \"val_loss\"])\n",
    "best_val_metrics = {}\n",
    "best_test_metrics = {}"
   ]
  },
  {
   "cell_type": "code",
   "execution_count": 8,
   "id": "06a0857d-ca9d-46a5-8d2e-2afd27193ec3",
   "metadata": {
    "tags": []
   },
   "outputs": [
    {
     "name": "stdout",
     "output_type": "stream",
     "text": [
      "(epoch) 1 (batch) 0 (loss) 0.7956\n",
      "(epoch) 1 (batch) 200 (loss) 0.3122\n",
      "(epoch) 1 (batch) 400 (loss) 0.6012\n",
      "(epoch) 1 (batch) 600 (loss) 0.7690\n",
      "(epoch) 1 (batch) 800 (loss) 0.9464\n",
      "(epoch) 1 (batch) 1000 (loss) 0.4625\n"
     ]
    },
    {
     "name": "stderr",
     "output_type": "stream",
     "text": [
      "<ipython-input-8-cc5fae1257ec>:33: FutureWarning: The frame.append method is deprecated and will be removed from pandas in a future version. Use pandas.concat instead.\n",
      "  learning_curve_df = learning_curve_df.append(acc_loss_df)\n"
     ]
    },
    {
     "name": "stdout",
     "output_type": "stream",
     "text": [
      "Epoch 001 | Train acc: 0.8812289246908954 | Train loss: 0.625444525567366 | Valid acc: 0.8861209964412812 | Valid loss: 0.6118531367248041\n",
      "val_loss:0.6118531367248041 <<< BEST VALIDATION LOSS\n",
      "\n",
      "(epoch) 2 (batch) 0 (loss) 0.4046\n",
      "(epoch) 2 (batch) 200 (loss) 0.3509\n",
      "(epoch) 2 (batch) 400 (loss) 1.1726\n",
      "(epoch) 2 (batch) 600 (loss) 0.6935\n",
      "(epoch) 2 (batch) 800 (loss) 0.3055\n",
      "(epoch) 2 (batch) 1000 (loss) 1.0470\n"
     ]
    },
    {
     "name": "stderr",
     "output_type": "stream",
     "text": [
      "<ipython-input-8-cc5fae1257ec>:33: FutureWarning: The frame.append method is deprecated and will be removed from pandas in a future version. Use pandas.concat instead.\n",
      "  learning_curve_df = learning_curve_df.append(acc_loss_df)\n"
     ]
    },
    {
     "name": "stdout",
     "output_type": "stream",
     "text": [
      "Epoch 002 | Train acc: 0.7986449356812789 | Train loss: 0.6347856318532297 | Valid acc: 0.8076418805019666 | Valid loss: 0.6305790089181041\n",
      "val_loss:0.6305790089181041\n",
      "(epoch) 3 (batch) 0 (loss) 0.2816\n",
      "(epoch) 3 (batch) 200 (loss) 0.2236\n",
      "(epoch) 3 (batch) 400 (loss) 0.7041\n",
      "(epoch) 3 (batch) 600 (loss) 0.3248\n",
      "(epoch) 3 (batch) 800 (loss) 0.5217\n",
      "(epoch) 3 (batch) 1000 (loss) 0.2155\n"
     ]
    },
    {
     "name": "stderr",
     "output_type": "stream",
     "text": [
      "<ipython-input-8-cc5fae1257ec>:33: FutureWarning: The frame.append method is deprecated and will be removed from pandas in a future version. Use pandas.concat instead.\n",
      "  learning_curve_df = learning_curve_df.append(acc_loss_df)\n"
     ]
    },
    {
     "name": "stdout",
     "output_type": "stream",
     "text": [
      "Epoch 003 | Train acc: 0.894248782315474 | Train loss: 0.6204753137191643 | Valid acc: 0.9001685708934257 | Valid loss: 0.6481452622391753\n",
      "val_loss:0.6481452622391753\n",
      "(epoch) 4 (batch) 0 (loss) 0.1919\n",
      "(epoch) 4 (batch) 200 (loss) 0.6561\n",
      "(epoch) 4 (batch) 400 (loss) 2.8859\n",
      "(epoch) 4 (batch) 600 (loss) 0.6304\n",
      "(epoch) 4 (batch) 800 (loss) 0.4879\n",
      "(epoch) 4 (batch) 1000 (loss) 0.2185\n"
     ]
    },
    {
     "name": "stderr",
     "output_type": "stream",
     "text": [
      "<ipython-input-8-cc5fae1257ec>:33: FutureWarning: The frame.append method is deprecated and will be removed from pandas in a future version. Use pandas.concat instead.\n",
      "  learning_curve_df = learning_curve_df.append(acc_loss_df)\n"
     ]
    },
    {
     "name": "stdout",
     "output_type": "stream",
     "text": [
      "Epoch 004 | Train acc: 0.8854127638316474 | Train loss: 0.5523639760452724 | Valid acc: 0.8864955984266717 | Valid loss: 0.5409607582525504\n",
      "val_loss:0.5409607582525504 <<< BEST VALIDATION LOSS\n",
      "\n",
      "(epoch) 5 (batch) 0 (loss) 0.0796\n",
      "(epoch) 5 (batch) 200 (loss) 0.4888\n",
      "(epoch) 5 (batch) 400 (loss) 0.4848\n",
      "(epoch) 5 (batch) 600 (loss) 0.2870\n",
      "(epoch) 5 (batch) 800 (loss) 2.2243\n",
      "(epoch) 5 (batch) 1000 (loss) 6.4409\n"
     ]
    },
    {
     "name": "stderr",
     "output_type": "stream",
     "text": [
      "<ipython-input-8-cc5fae1257ec>:33: FutureWarning: The frame.append method is deprecated and will be removed from pandas in a future version. Use pandas.concat instead.\n",
      "  learning_curve_df = learning_curve_df.append(acc_loss_df)\n"
     ]
    },
    {
     "name": "stdout",
     "output_type": "stream",
     "text": [
      "Epoch 005 | Train acc: 0.9036155863619333 | Train loss: 0.5705806256248752 | Valid acc: 0.9061622026596741 | Valid loss: 0.5724525651119134\n",
      "val_loss:0.5724525651119134\n",
      "(epoch) 6 (batch) 0 (loss) 0.4675\n",
      "(epoch) 6 (batch) 200 (loss) 0.6465\n",
      "(epoch) 6 (batch) 400 (loss) 0.3653\n",
      "(epoch) 6 (batch) 600 (loss) 0.5082\n",
      "(epoch) 6 (batch) 800 (loss) 0.6642\n",
      "(epoch) 6 (batch) 1000 (loss) 0.7646\n"
     ]
    },
    {
     "name": "stderr",
     "output_type": "stream",
     "text": [
      "<ipython-input-8-cc5fae1257ec>:33: FutureWarning: The frame.append method is deprecated and will be removed from pandas in a future version. Use pandas.concat instead.\n",
      "  learning_curve_df = learning_curve_df.append(acc_loss_df)\n"
     ]
    },
    {
     "name": "stdout",
     "output_type": "stream",
     "text": [
      "Epoch 006 | Train acc: 0.8823529411764706 | Train loss: 0.5395493913459111 | Valid acc: 0.8863082974339764 | Valid loss: 0.5361702506362241\n",
      "val_loss:0.5361702506362241 <<< BEST VALIDATION LOSS\n",
      "\n",
      "(epoch) 7 (batch) 0 (loss) 0.3041\n",
      "(epoch) 7 (batch) 200 (loss) 0.2165\n",
      "(epoch) 7 (batch) 400 (loss) 0.2584\n",
      "(epoch) 7 (batch) 600 (loss) 0.1660\n",
      "(epoch) 7 (batch) 800 (loss) 0.3221\n",
      "(epoch) 7 (batch) 1000 (loss) 0.3861\n"
     ]
    },
    {
     "name": "stderr",
     "output_type": "stream",
     "text": [
      "<ipython-input-8-cc5fae1257ec>:33: FutureWarning: The frame.append method is deprecated and will be removed from pandas in a future version. Use pandas.concat instead.\n",
      "  learning_curve_df = learning_curve_df.append(acc_loss_df)\n"
     ]
    },
    {
     "name": "stdout",
     "output_type": "stream",
     "text": [
      "Epoch 007 | Train acc: 0.843761708505058 | Train loss: 0.5502388448963544 | Valid acc: 0.8522195167634389 | Valid loss: 0.5352186781524674\n",
      "val_loss:0.5352186781524674 <<< BEST VALIDATION LOSS\n",
      "\n",
      "(epoch) 8 (batch) 0 (loss) 0.2470\n",
      "(epoch) 8 (batch) 200 (loss) 0.3271\n",
      "(epoch) 8 (batch) 400 (loss) 1.8870\n",
      "(epoch) 8 (batch) 600 (loss) 0.1754\n",
      "(epoch) 8 (batch) 800 (loss) 2.4630\n",
      "(epoch) 8 (batch) 1000 (loss) 0.2630\n"
     ]
    },
    {
     "name": "stderr",
     "output_type": "stream",
     "text": [
      "<ipython-input-8-cc5fae1257ec>:33: FutureWarning: The frame.append method is deprecated and will be removed from pandas in a future version. Use pandas.concat instead.\n",
      "  learning_curve_df = learning_curve_df.append(acc_loss_df)\n"
     ]
    },
    {
     "name": "stdout",
     "output_type": "stream",
     "text": [
      "Epoch 008 | Train acc: 0.8786686649181966 | Train loss: 0.5306543705465494 | Valid acc: 0.8821876755946807 | Valid loss: 0.5260029730348132\n",
      "val_loss:0.5260029730348132 <<< BEST VALIDATION LOSS\n",
      "\n",
      "(epoch) 9 (batch) 0 (loss) 0.5554\n",
      "(epoch) 9 (batch) 200 (loss) 0.1718\n",
      "(epoch) 9 (batch) 400 (loss) 0.2131\n",
      "(epoch) 9 (batch) 600 (loss) 0.3166\n",
      "(epoch) 9 (batch) 800 (loss) 0.5534\n",
      "(epoch) 9 (batch) 1000 (loss) 0.1882\n"
     ]
    },
    {
     "name": "stderr",
     "output_type": "stream",
     "text": [
      "<ipython-input-8-cc5fae1257ec>:33: FutureWarning: The frame.append method is deprecated and will be removed from pandas in a future version. Use pandas.concat instead.\n",
      "  learning_curve_df = learning_curve_df.append(acc_loss_df)\n"
     ]
    },
    {
     "name": "stdout",
     "output_type": "stream",
     "text": [
      "Epoch 009 | Train acc: 0.9120769326839016 | Train loss: 0.5399752030796038 | Valid acc: 0.916838359243304 | Valid loss: 0.5515386501892684\n",
      "val_loss:0.5515386501892684\n",
      "(epoch) 10 (batch) 0 (loss) 7.8690\n",
      "(epoch) 10 (batch) 200 (loss) 0.3804\n",
      "(epoch) 10 (batch) 400 (loss) 0.2805\n",
      "(epoch) 10 (batch) 600 (loss) 0.3433\n",
      "(epoch) 10 (batch) 800 (loss) 0.9067\n",
      "(epoch) 10 (batch) 1000 (loss) 0.1969\n"
     ]
    },
    {
     "name": "stderr",
     "output_type": "stream",
     "text": [
      "<ipython-input-8-cc5fae1257ec>:33: FutureWarning: The frame.append method is deprecated and will be removed from pandas in a future version. Use pandas.concat instead.\n",
      "  learning_curve_df = learning_curve_df.append(acc_loss_df)\n"
     ]
    },
    {
     "name": "stdout",
     "output_type": "stream",
     "text": [
      "Epoch 010 | Train acc: 0.8897839390533283 | Train loss: 0.5339587825178669 | Valid acc: 0.8945495411125679 | Valid loss: 0.562859771874044\n",
      "val_loss:0.562859771874044\n",
      "(epoch) 11 (batch) 0 (loss) 0.4288\n",
      "(epoch) 11 (batch) 200 (loss) 0.3545\n",
      "(epoch) 11 (batch) 400 (loss) 0.4932\n",
      "(epoch) 11 (batch) 600 (loss) 0.0708\n",
      "(epoch) 11 (batch) 800 (loss) 0.2692\n",
      "(epoch) 11 (batch) 1000 (loss) 0.3807\n"
     ]
    },
    {
     "name": "stderr",
     "output_type": "stream",
     "text": [
      "<ipython-input-8-cc5fae1257ec>:33: FutureWarning: The frame.append method is deprecated and will be removed from pandas in a future version. Use pandas.concat instead.\n",
      "  learning_curve_df = learning_curve_df.append(acc_loss_df)\n"
     ]
    },
    {
     "name": "stdout",
     "output_type": "stream",
     "text": [
      "Epoch 011 | Train acc: 0.8837891844635943 | Train loss: 0.5325656973185634 | Valid acc: 0.8855590934631954 | Valid loss: 0.5480240497917445\n",
      "val_loss:0.5480240497917445\n",
      "(epoch) 12 (batch) 0 (loss) 0.3103\n",
      "(epoch) 12 (batch) 200 (loss) 0.3255\n",
      "(epoch) 12 (batch) 400 (loss) 0.4002\n",
      "(epoch) 12 (batch) 600 (loss) 0.6996\n",
      "(epoch) 12 (batch) 800 (loss) 0.4914\n",
      "(epoch) 12 (batch) 1000 (loss) 0.3393\n"
     ]
    },
    {
     "name": "stderr",
     "output_type": "stream",
     "text": [
      "<ipython-input-8-cc5fae1257ec>:33: FutureWarning: The frame.append method is deprecated and will be removed from pandas in a future version. Use pandas.concat instead.\n",
      "  learning_curve_df = learning_curve_df.append(acc_loss_df)\n"
     ]
    },
    {
     "name": "stdout",
     "output_type": "stream",
     "text": [
      "Epoch 012 | Train acc: 0.8765767453478207 | Train loss: 0.5431511402948974 | Valid acc: 0.8821876755946807 | Valid loss: 0.5453445998123911\n",
      "val_loss:0.5453445998123911\n",
      "(epoch) 13 (batch) 0 (loss) 0.4683\n",
      "(epoch) 13 (batch) 200 (loss) 0.6527\n",
      "(epoch) 13 (batch) 400 (loss) 0.4743\n",
      "(epoch) 13 (batch) 600 (loss) 0.2447\n",
      "(epoch) 13 (batch) 800 (loss) 0.2134\n",
      "(epoch) 13 (batch) 1000 (loss) 0.3554\n"
     ]
    },
    {
     "name": "stderr",
     "output_type": "stream",
     "text": [
      "<ipython-input-8-cc5fae1257ec>:33: FutureWarning: The frame.append method is deprecated and will be removed from pandas in a future version. Use pandas.concat instead.\n",
      "  learning_curve_df = learning_curve_df.append(acc_loss_df)\n"
     ]
    },
    {
     "name": "stdout",
     "output_type": "stream",
     "text": [
      "Epoch 013 | Train acc: 0.8889097040089922 | Train loss: 0.519644489252003 | Valid acc: 0.8949241430979584 | Valid loss: 0.5340190829158298\n",
      "val_loss:0.5340190829158298\n",
      "(epoch) 14 (batch) 0 (loss) 0.3051\n",
      "(epoch) 14 (batch) 200 (loss) 1.2929\n",
      "(epoch) 14 (batch) 400 (loss) 0.3064\n",
      "(epoch) 14 (batch) 600 (loss) 0.2963\n",
      "(epoch) 14 (batch) 800 (loss) 0.1304\n",
      "(epoch) 14 (batch) 1000 (loss) 0.5477\n"
     ]
    },
    {
     "name": "stderr",
     "output_type": "stream",
     "text": [
      "<ipython-input-8-cc5fae1257ec>:33: FutureWarning: The frame.append method is deprecated and will be removed from pandas in a future version. Use pandas.concat instead.\n",
      "  learning_curve_df = learning_curve_df.append(acc_loss_df)\n"
     ]
    },
    {
     "name": "stdout",
     "output_type": "stream",
     "text": [
      "Epoch 014 | Train acc: 0.8833208442612714 | Train loss: 0.5131416583055263 | Valid acc: 0.8902416182805769 | Valid loss: 0.5408885706105154\n",
      "Epoch    14: reducing learning rate of group 0 to 1.0000e-04.\n",
      "val_loss:0.5408885706105154\n",
      "(epoch) 15 (batch) 0 (loss) 0.3452\n",
      "(epoch) 15 (batch) 200 (loss) 0.5363\n",
      "(epoch) 15 (batch) 400 (loss) 0.2877\n",
      "(epoch) 15 (batch) 600 (loss) 0.3546\n",
      "(epoch) 15 (batch) 800 (loss) 0.1963\n",
      "(epoch) 15 (batch) 1000 (loss) 0.4858\n"
     ]
    },
    {
     "name": "stderr",
     "output_type": "stream",
     "text": [
      "<ipython-input-8-cc5fae1257ec>:33: FutureWarning: The frame.append method is deprecated and will be removed from pandas in a future version. Use pandas.concat instead.\n",
      "  learning_curve_df = learning_curve_df.append(acc_loss_df)\n"
     ]
    },
    {
     "name": "stdout",
     "output_type": "stream",
     "text": [
      "Epoch 015 | Train acc: 0.893312101910828 | Train loss: 0.5027820327404928 | Valid acc: 0.8992320659299494 | Valid loss: 0.5366094517984692\n",
      "val_loss:0.5366094517984692\n",
      "(epoch) 16 (batch) 0 (loss) 0.1780\n",
      "(epoch) 16 (batch) 200 (loss) 0.1097\n",
      "(epoch) 16 (batch) 400 (loss) 0.5553\n",
      "(epoch) 16 (batch) 600 (loss) 0.2110\n",
      "(epoch) 16 (batch) 800 (loss) 0.2895\n",
      "(epoch) 16 (batch) 1000 (loss) 0.2209\n"
     ]
    },
    {
     "name": "stderr",
     "output_type": "stream",
     "text": [
      "<ipython-input-8-cc5fae1257ec>:33: FutureWarning: The frame.append method is deprecated and will be removed from pandas in a future version. Use pandas.concat instead.\n",
      "  learning_curve_df = learning_curve_df.append(acc_loss_df)\n"
     ]
    },
    {
     "name": "stdout",
     "output_type": "stream",
     "text": [
      "Epoch 016 | Train acc: 0.8880979143249657 | Train loss: 0.5017468531442608 | Valid acc: 0.8936130361490916 | Valid loss: 0.5302624272527622\n",
      "val_loss:0.5302624272527622\n",
      "(epoch) 17 (batch) 0 (loss) 0.2762\n",
      "(epoch) 17 (batch) 200 (loss) 0.2164\n",
      "(epoch) 17 (batch) 400 (loss) 0.3594\n",
      "(epoch) 17 (batch) 600 (loss) 0.4661\n",
      "(epoch) 17 (batch) 800 (loss) 0.1658\n",
      "(epoch) 17 (batch) 1000 (loss) 0.2957\n"
     ]
    },
    {
     "name": "stderr",
     "output_type": "stream",
     "text": [
      "<ipython-input-8-cc5fae1257ec>:33: FutureWarning: The frame.append method is deprecated and will be removed from pandas in a future version. Use pandas.concat instead.\n",
      "  learning_curve_df = learning_curve_df.append(acc_loss_df)\n"
     ]
    },
    {
     "name": "stdout",
     "output_type": "stream",
     "text": [
      "Epoch 017 | Train acc: 0.8934682153116024 | Train loss: 0.498254169644496 | Valid acc: 0.8977336579883873 | Valid loss: 0.5308321296295148\n",
      "val_loss:0.5308321296295148\n",
      "(epoch) 18 (batch) 0 (loss) 0.2447\n",
      "(epoch) 18 (batch) 200 (loss) 2.6887\n",
      "(epoch) 18 (batch) 400 (loss) 0.8714\n",
      "(epoch) 18 (batch) 600 (loss) 2.6242\n",
      "(epoch) 18 (batch) 800 (loss) 0.3573\n",
      "(epoch) 18 (batch) 1000 (loss) 0.2304\n"
     ]
    },
    {
     "name": "stderr",
     "output_type": "stream",
     "text": [
      "<ipython-input-8-cc5fae1257ec>:33: FutureWarning: The frame.append method is deprecated and will be removed from pandas in a future version. Use pandas.concat instead.\n",
      "  learning_curve_df = learning_curve_df.append(acc_loss_df)\n"
     ]
    },
    {
     "name": "stdout",
     "output_type": "stream",
     "text": [
      "Epoch 018 | Train acc: 0.8926564256275759 | Train loss: 0.49695731292090134 | Valid acc: 0.8964225510395205 | Valid loss: 0.527556372900975\n",
      "val_loss:0.527556372900975\n"
     ]
    },
    {
     "data": {
      "image/png": "[encoded data removed]",
      "text/plain": [
       "<Figure size 1080x360 with 2 Axes>"
      ]
     },
     "metadata": {
      "needs_background": "light"
     },
     "output_type": "display_data"
    }
   ],
   "source": [
    "for epoch in range(1, n_epochs + 1):\n",
    "    for iteration, batch_idx in enumerate(train_loader):\n",
    "        model.train()\n",
    "        optimizer.zero_grad()\n",
    "        x_batch = X_splited[\"train\"][batch_idx]\n",
    "        y_batch = y_splited[\"train\"][batch_idx]\n",
    "        weight = torch.where(\n",
    "            y_splited[\"train\"][batch_idx] == 0, class_weights[0], class_weights[1]\n",
    "        )  # weight\n",
    "\n",
    "        loss, optimizer = ITER_FNS[iter_type](\n",
    "            model, apply_model, x_batch, y_batch, optimizer, weight=weight\n",
    "        )\n",
    "        # loss=loss_fn(apply_model(inputs).squeeze(1), output)\n",
    "        # loss.backward()\n",
    "        # optimizer.step()\n",
    "        if iteration % report_frequency == 0:\n",
    "            print(f\"(epoch) {epoch} (batch) {iteration} (loss) {loss.item():.4f}\")\n",
    "\n",
    "    acc_loss_df = acc_loss_recorder(\n",
    "        model, X_splited, y_splited, loss_fn, epoch, cat_col, class_weights\n",
    "    )\n",
    "    learning_curve_df = learning_curve_df.append(acc_loss_df)\n",
    "\n",
    "    print(\n",
    "        f'Epoch {epoch:03d} | Train acc: {acc_loss_df[\"acc\"].item()} | Train loss: {acc_loss_df[\"loss\"].item()} | Valid acc: {acc_loss_df[\"val_acc\"].item()} | Valid loss: {acc_loss_df[\"val_loss\"].item()}'\n",
    "    )\n",
    "    val_loss = acc_loss_df[\"val_loss\"].item()\n",
    "    scheduler.step(val_loss)\n",
    "    print(f\"val_loss:{val_loss}\", end=\"\")\n",
    "    if val_loss < min_loss:\n",
    "        print(\" <<< BEST VALIDATION LOSS\")\n",
    "        torch.save(model.state_dict(), \"%s_best_model.pt\" % name)\n",
    "        min_loss = val_loss\n",
    "        best_val_metrics = evaluate(model, X_splited, y_splited, \"val\", cat_col=12)\n",
    "        best_test_metrics = evaluate(model, X_splited, y_splited, \"test\", cat_col=12)\n",
    "    print()\n",
    "    if early_stopper.early_stop(val_loss):\n",
    "        show_histroy(\n",
    "            learning_curve_df,\n",
    "            train_acc=\"acc\",\n",
    "            validation_acc=\"val_acc\",\n",
    "            train_loss=\"loss\",\n",
    "            validation_loss=\"val_loss\",\n",
    "            path=\"\",\n",
    "        )\n",
    "        break"
   ]
  },
  {
   "cell_type": "code",
   "execution_count": null,
   "id": "b2016db8-d4df-4420-87c0-9e890dd79dbf",
   "metadata": {},
   "outputs": [],
   "source": []
  }
 ],
 "metadata": {
  "kernelspec": {
   "display_name": "Python 3",
   "language": "python",
   "name": "python3"
  },
  "language_info": {
   "codemirror_mode": {
    "name": "ipython",
    "version": 3
   },
   "file_extension": ".py",
   "mimetype": "text/x-python",
   "name": "python",
   "nbconvert_exporter": "python",
   "pygments_lexer": "ipython3",
   "version": "3.8.8"
  },
  "vscode": {
   "interpreter": {
    "hash": "31f2aee4e71d21fbe5cf8b01ff0e069b9275f58929596ceb00d14d90e3e16cd6"
   }
  }
 },
 "nbformat": 4,
 "nbformat_minor": 5
}
