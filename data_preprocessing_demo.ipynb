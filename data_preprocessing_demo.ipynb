{
 "cells": [
  {
   "cell_type": "code",
   "execution_count": 1,
   "id": "dbac62aa",
   "metadata": {},
   "outputs": [],
   "source": [
    "from get_class_weights_from_y import get_class_weights\n",
    "from get_x_y_from_cgh_data import get_X_y_from_cgh_data\n",
    "from split_data_and_scaler import train_val_test_split\n",
    "from x_y_data_preprocessing import (\n",
    "    get_cardinalities_from_X,\n",
    "    sort_and_find_cat_col_X,\n",
    "    tabular_data_preprocessing,\n",
    ")"
   ]
  },
  {
   "cell_type": "code",
   "execution_count": 2,
   "id": "cc1a1f27",
   "metadata": {},
   "outputs": [],
   "source": [
    "cgh_data_path = \"data/2019_join_data_WithLabel_pure.csv\""
   ]
  },
  {
   "cell_type": "code",
   "execution_count": 3,
   "id": "81b8cd70",
   "metadata": {},
   "outputs": [
    {
     "name": "stdout",
     "output_type": "stream",
     "text": [
      "output: \n",
      "data/2019_join_data_WithLabel_pure_X.csv\n",
      "data/2019_join_data_WithLabel_pure_y.csv\n"
     ]
    }
   ],
   "source": [
    "get_X_y_from_cgh_data(cgh_data_path)"
   ]
  },
  {
   "cell_type": "code",
   "execution_count": 4,
   "id": "cb2a66ca-332c-428d-a5a2-0fdb3077c38a",
   "metadata": {},
   "outputs": [],
   "source": [
    "X_path = \"data/2019_join_data_WithLabel_pure_X.csv\"\n",
    "y_path = \"data/2019_join_data_WithLabel_pure_y.csv\""
   ]
  },
  {
   "cell_type": "code",
   "execution_count": 5,
   "id": "63c749af",
   "metadata": {},
   "outputs": [
    {
     "name": "stdout",
     "output_type": "stream",
     "text": [
      "output: \n",
      "splited_encoded_data/2019_join_data_WithLabel_pure_X_encoded.npy\n",
      "splited_encoded_data/2019_join_data_WithLabel_pure_y.npy\n"
     ]
    }
   ],
   "source": [
    "tabular_data_preprocessing(\n",
    "    X_path,\n",
    "    y_path,\n",
    "    fill_nan_num=\"median\",\n",
    "    fill_nan_cat=\"Unknown\",\n",
    "    output_data_dir=\"splited_encoded_data\",\n",
    ")"
   ]
  },
  {
   "cell_type": "code",
   "execution_count": 6,
   "id": "86634678-0f47-499a-81ab-ed3b8b3a0d99",
   "metadata": {},
   "outputs": [
    {
     "name": "stdout",
     "output_type": "stream",
     "text": [
      "fill nan method: Unknown\n",
      "output: \n",
      "splited_encoded_data/2019_join_data_WithLabel_pure_X_fill_nan_by_Unknown_cat_cardinalities.json\n",
      "labels unique:[0 1]\t class weights:[ 1. 43.]\n",
      "output: \n",
      "data/2019_join_data_WithLabel_pure_y_class_weights.json\n"
     ]
    }
   ],
   "source": [
    "get_cardinalities_from_X(\n",
    "    X_path, fill_nan_by=\"Unknown\", output_data_dir=\"splited_encoded_data\"\n",
    ")\n",
    "get_class_weights(y_path)"
   ]
  },
  {
   "cell_type": "code",
   "execution_count": 7,
   "id": "3ad37ce8-a72c-4831-b714-4f68cacbc231",
   "metadata": {},
   "outputs": [],
   "source": [
    "X_encoded_npy_path = \"splited_encoded_data/2019_join_data_WithLabel_pure_X_encoded.npy\"\n",
    "y_npy_path = \"splited_encoded_data/2019_join_data_WithLabel_pure_y.npy\"\n",
    "cat_col = sort_and_find_cat_col_X(X_path)"
   ]
  },
  {
   "cell_type": "code",
   "execution_count": 8,
   "id": "33ab14f9-35da-4cea-92c1-42bbcd682bb1",
   "metadata": {},
   "outputs": [
    {
     "name": "stdout",
     "output_type": "stream",
     "text": [
      "normalize the first numerical 12 columns of encoded_X\n",
      "Train:32028 Val:5339 Test:5338\n",
      "output: \n",
      "splited_encoded_data/2019_join_data_WithLabel_pure_X_encoded_splited.json\n",
      "splited_encoded_data/2019_join_data_WithLabel_pure_y_splited.json\n"
     ]
    }
   ],
   "source": [
    "train_val_test_split(\n",
    "    X_encoded_npy_path,\n",
    "    y_npy_path,\n",
    "    scaler_type=\"standard\",\n",
    "    cat_col=cat_col,\n",
    "    save=True,\n",
    "    output_data_dir=\"splited_encoded_data\",\n",
    ")"
   ]
  },
  {
   "cell_type": "code",
   "execution_count": null,
   "id": "f2a64be7-5343-4c6a-97e5-44ab23b124a3",
   "metadata": {},
   "outputs": [],
   "source": []
  }
 ],
 "metadata": {
  "kernelspec": {
   "display_name": "Python 3",
   "language": "python",
   "name": "python3"
  },
  "language_info": {
   "codemirror_mode": {
    "name": "ipython",
    "version": 3
   },
   "file_extension": ".py",
   "mimetype": "text/x-python",
   "name": "python",
   "nbconvert_exporter": "python",
   "pygments_lexer": "ipython3",
   "version": "3.8.8"
  },
  "vscode": {
   "interpreter": {
    "hash": "31f2aee4e71d21fbe5cf8b01ff0e069b9275f58929596ceb00d14d90e3e16cd6"
   }
  }
 },
 "nbformat": 4,
 "nbformat_minor": 5
}
